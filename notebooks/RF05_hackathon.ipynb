{
 "cells": [
  {
   "cell_type": "code",
   "execution_count": null,
   "metadata": {},
   "outputs": [],
   "source": [
    "import matplotlib.pyplot as plt\n",
    "import numpy as np\n",
    "import xarray as xr\n",
    "from datetime import datetime, timedelta\n",
    "import sys\n",
    "sys.path.append(\"/Users/mprange/PycharmProjects/flight_phase_seperation/\")\n",
    "\n",
    "import FlightPhaseTools as fpt\n",
    "from ResearchFlight import ResearchFlight\n",
    "from ResearchFlightSegment import ResearchFlightSegment"
   ]
  },
  {
   "cell_type": "markdown",
   "metadata": {},
   "source": [
    "## 1.) Load data into xarray datasets."
   ]
  },
  {
   "cell_type": "code",
   "execution_count": null,
   "metadata": {},
   "outputs": [],
   "source": [
    "bahamas = xr.open_dataset('/Users/mprange/Desktop/halo_unified/unified/bahamas_20200128_v0.4.nc')\n",
    "dropsondes = xr.open_dataset('/Users/mprange/Desktop/halo_unified/unified/dropsondes_20200128_v0.4.nc')"
   ]
  },
  {
   "cell_type": "markdown",
   "metadata": {},
   "source": [
    "## 2.) Determine the timestamps of the different flight phases using the FlightPhaseTools module."
   ]
  },
  {
   "cell_type": "code",
   "execution_count": null,
   "metadata": {},
   "outputs": [],
   "source": [
    "takeoff = 0\n",
    "touchdown = len(bahamas['time']) - 1\n",
    "enter_c1 = fpt.ds_timestamp_ind(bahamas, dropsondes, 0)\n",
    "exit_c1 = fpt.ds_timestamp_ind(bahamas, dropsondes, 11)\n",
    "\n",
    "\"\"\"\n",
    "enter_c1_ds = fpt.ds_timestamp_ind(bahamas, dropsondes, 0)\n",
    "enter_c1 = fpt.timestamp_ind_1min_prior(bahamas, enter_c1_ds)\n",
    "exit_c1 = fpt.exit_circle_timestamp_ind(bahamas, enter_c1)\n",
    "\"\"\"\n",
    "enter_c2 = fpt.ds_timestamp_ind(bahamas, dropsondes, 12)\n",
    "exit_c2 = fpt.ds_timestamp_ind(bahamas, dropsondes, 23)\n",
    "enter_c3 = fpt.ds_timestamp_ind(bahamas, dropsondes, 24)\n",
    "exit_c3 = fpt.ds_timestamp_ind(bahamas, dropsondes, 34)\n",
    "max_roll_b4_leg1 = fpt.max_timestamp_ind(bahamas, 'roll', \n",
    "          slice('2020-01-28T18:30:00', '2020-01-28T19:00:00'),\n",
    "          order=500\n",
    "                                        )\n",
    "enter_leg1 = fpt.find_first_value_after_ts_ind(bahamas, 'roll', max_roll_b4_leg1, 0., 0.05)\n",
    "max_roll_after_leg1 = fpt.max_timestamp_ind(bahamas, 'roll', \n",
    "          slice('2020-01-28T19:00:00', '2020-01-28T19:20:00'),\n",
    "          order=500\n",
    "         )\n",
    "exit_leg1 = fpt.find_first_value_before_ts_ind(bahamas, 'roll', max_roll_after_leg1, 0., 0.05)\n",
    "min_roll_b4_rad_cal = fpt.min_timestamp_ind(bahamas, 'roll', \n",
    "          slice('2020-01-28T19:00:00', '2020-01-28T19:20:00'),\n",
    "          order=500\n",
    "         )\n",
    "enter_rad_cal = fpt.find_first_value_after_ts_ind(bahamas, 'heading', min_roll_b4_rad_cal, 0., 1.0)\n",
    "max_roll_after_rad_cal = fpt.max_timestamp_ind(bahamas, 'roll', \n",
    "          slice('2020-01-28T19:15:00', '2020-01-28T19:30:00'),\n",
    "          order=500\n",
    "         )\n",
    "exit_rad_cal = fpt.find_first_value_before_ts_ind(bahamas, 'roll', max_roll_after_rad_cal, -10., 0.1)\n",
    "max_roll_b4_leg2 = fpt.max_timestamp_ind(bahamas, 'roll', \n",
    "          slice('2020-01-28T19:10:00', '2020-01-28T19:30:00'),\n",
    "          order=1000\n",
    "                                   )\n",
    "enter_leg2 = fpt.find_first_value_after_ts_ind(bahamas, 'roll', max_roll_b4_leg2, 0., 0.05)\n",
    "max_roll_after_leg2 = fpt.max_timestamp_ind(bahamas, 'roll', \n",
    "                                       slice('2020-01-28T19:30:00', '2020-01-28T20:00:00'),\n",
    "                                       order=1000\n",
    "                                      )\n",
    "exit_leg2 = fpt.find_first_value_before_ts_ind(bahamas, 'roll', max_roll_after_leg2, 0., 0.05)\n",
    "enter_c4 = fpt.ds_timestamp_ind(bahamas, dropsondes, 35)\n",
    "exit_c4 = fpt.ds_timestamp_ind(bahamas, dropsondes, 45)\n",
    "enter_c5 = fpt.ds_timestamp_ind(bahamas, dropsondes, 46)\n",
    "exit_c5 = fpt.ds_timestamp_ind(bahamas, dropsondes, 57)\n",
    "enter_c6 = fpt.ds_timestamp_ind(bahamas, dropsondes, 58)\n",
    "exit_c6 = fpt.ds_timestamp_ind(bahamas, dropsondes, 69)\n",
    "bahamas[\"altitude_dt\"] = (['time'], np.append(np.diff(bahamas[\"altitude\"]),0))\n",
    "min_dzdt_after_c6 = fpt.min_timestamp_ind(bahamas, 'altitude_dt', \n",
    "                      slice('2020-01-28T23:20:00', '2020-01-28T23:40:00'), order=1000)\n",
    "enter_lidar_cal = fpt.find_first_value_after_ts_ind(bahamas, 'altitude_dt', min_dzdt_after_c6, 0., 0.05)\n",
    "min_dzdt_after_lidar_cal = fpt.min_timestamp_ind(bahamas, 'altitude_dt', \n",
    "                      slice('2020-01-28T23:40:00', '2020-01-28T23:55:00'), order=1000)\n",
    "exit_lidar_cal = fpt.find_first_value_before_ts_ind(bahamas, 'altitude_dt', min_dzdt_after_lidar_cal, 0., 0.05)\n",
    "\n",
    "\n",
    "\n",
    "\n",
    "ts_ind_list = [takeoff, touchdown, enter_c1, exit_c1, enter_c2, \n",
    "               exit_c2, enter_c3, exit_c3, enter_leg1, \n",
    "               exit_leg1, enter_rad_cal, exit_rad_cal, \n",
    "               enter_leg2, exit_leg2, enter_c4, exit_c4, \n",
    "               enter_c5, exit_c5, enter_c6, exit_c6, enter_lidar_cal,\n",
    "               exit_lidar_cal,\n",
    "               ]\n",
    "label_list = [\"takeoff\", \"touchdown\", \"enter_c1\", \"exit_c1\", \n",
    "              \"enter_c2\", \"exit_c2\", \"enter_c3\", \"exit_c3\", \n",
    "              \"enter_leg1\", \"exit_leg1\", \"enter_rad_cal\", \n",
    "              \"exit_rad_cal\", \"enter_leg2\", \"exit_leg2\", \n",
    "              \"enter_c4\", \"exit_c4\", \"enter_c5\", \"exit_c5\", \n",
    "              \"enter_c6\", \"exit_c6\", \"enter_lidar_cal\", \n",
    "              \"exit_lidar_cal\"]"
   ]
  },
  {
   "cell_type": "markdown",
   "metadata": {},
   "source": [
    "## 3.) Create basic timeseries of bahamas data with markers for determined timestamps to manually evaluate the validity of the timestamps."
   ]
  },
  {
   "cell_type": "code",
   "execution_count": null,
   "metadata": {
    "scrolled": true
   },
   "outputs": [],
   "source": [
    "fig, ax = fpt.plot_bahamas_timeseries(bahamas, ts_ind_list, label_list)"
   ]
  },
  {
   "cell_type": "markdown",
   "metadata": {},
   "source": [
    "## 4.) Create a ResearchFlight object to represent the flight meta data."
   ]
  },
  {
   "cell_type": "code",
   "execution_count": null,
   "metadata": {},
   "outputs": [],
   "source": [
    "RF05 = ResearchFlight(name=f\"RF{bahamas.attrs['flight_number']}\",\n",
    "                      mission=bahamas.attrs['mission'],\n",
    "                      flight_id='HALO-0128',\n",
    "                      contacts=[\n",
    "                          {\n",
    "                              'name': 'Marc Prange', \n",
    "                              'email': 'marc.prange@uni-hamburg.de',\n",
    "                              'tags': ['dataset creator'],\n",
    "                          },\n",
    "                          {\n",
    "                              'name': 'Bjorn Stevens',\n",
    "                              'email': 'bjorn.stevens@mpimet.mpg.de',\n",
    "                              'tags': ['flight PI']\n",
    "                          }\n",
    "                      ],\n",
    "                      date=fpt.dt64_to_dt(bahamas['time'][takeoff].values).date(),\n",
    "                      flight_report='https://observations.ipsl.fr/aeris/eurec4a-data/REPORTS/HALO/2020/20200128/HALO-0128.pdf',\n",
    "                      takeoff=fpt.dt64_to_dt(bahamas['time'][takeoff].values),\n",
    "                      landing=fpt.dt64_to_dt(bahamas['time'][touchdown].values),\n",
    "                      events=[],\n",
    "                      remarks=['Rather long excursion towards NTAS with radar calibration maneuver.',\n",
    "                               'Sugar cloud patterns within the circle.'],\n",
    ")"
   ]
  },
  {
   "cell_type": "markdown",
   "metadata": {},
   "source": [
    "## 5.) Store the flight phase information in ResearchFlightSegment objects."
   ]
  },
  {
   "cell_type": "code",
   "execution_count": null,
   "metadata": {},
   "outputs": [],
   "source": [
    "circle1 = ResearchFlightSegment(kind='circle',\n",
    "                                name='c1',\n",
    "                                start=fpt.dt64_to_dt(bahamas[\"time\"][enter_c1].values),\n",
    "                                end=fpt.dt64_to_dt(bahamas['time'][exit_c1].values)\n",
    "                               )\n",
    "circle_break1 = ResearchFlightSegment(kind='circle_break',\n",
    "                                      name='cb1to2',\n",
    "                                      start=fpt.dt64_to_dt(bahamas[\"time\"][exit_c1].values),\n",
    "                                      end=fpt.dt64_to_dt(bahamas['time'][enter_c2].values)\n",
    "                                     )\n",
    "circle2 = ResearchFlightSegment(kind='circle',\n",
    "                                name='c2',\n",
    "                                start=fpt.dt64_to_dt(bahamas[\"time\"][enter_c2].values),\n",
    "                                end=fpt.dt64_to_dt(bahamas['time'][exit_c2].values)\n",
    "                               )\n",
    "circle_break2 = ResearchFlightSegment(kind='circle_break',\n",
    "                                      name='cb2to3',\n",
    "                                      start=fpt.dt64_to_dt(bahamas[\"time\"][exit_c2].values),\n",
    "                                      end=fpt.dt64_to_dt(bahamas['time'][enter_c3].values)\n",
    "                                     )\n",
    "circle3 = ResearchFlightSegment(kind='circle',\n",
    "                                name='c3',\n",
    "                                start=fpt.dt64_to_dt(bahamas[\"time\"][enter_c3].values),\n",
    "                                end=fpt.dt64_to_dt(bahamas['time'][exit_c3].values)\n",
    "                               )\n",
    "leg1 = ResearchFlightSegment(kind='straight_leg',\n",
    "                             name='leg1_outbound_NTAS',\n",
    "                             start=fpt.dt64_to_dt(bahamas[\"time\"][enter_leg1].values),\n",
    "                             end=fpt.dt64_to_dt(bahamas['time'][exit_leg1].values))\n",
    "radar_cal = ResearchFlightSegment(kind='radar_calibration_tilted',\n",
    "                                  name='radar_cal_tilted',\n",
    "                                  start=fpt.dt64_to_dt(bahamas[\"time\"][enter_rad_cal].values),\n",
    "                                  end=fpt.dt64_to_dt(bahamas['time'][exit_rad_cal].values)\n",
    "                                 )\n",
    "leg2 = ResearchFlightSegment(kind='straight_leg',\n",
    "                             name='leg2_inbound_NTAS',\n",
    "                             start=fpt.dt64_to_dt(bahamas[\"time\"][enter_leg2].values),\n",
    "                             end=fpt.dt64_to_dt(bahamas['time'][exit_leg2].values))\n",
    "circle4 = ResearchFlightSegment(kind='circle',\n",
    "                                name='c4',\n",
    "                                start=fpt.dt64_to_dt(bahamas[\"time\"][enter_c4].values),\n",
    "                                end=fpt.dt64_to_dt(bahamas['time'][exit_c4].values)\n",
    "                               )\n",
    "circle_break3 = ResearchFlightSegment(kind='circle_break',\n",
    "                                      name='cb4to5',\n",
    "                                      start=fpt.dt64_to_dt(bahamas[\"time\"][exit_c4].values),\n",
    "                                      end=fpt.dt64_to_dt(bahamas['time'][enter_c5].values)\n",
    "                                     )\n",
    "circle5 = ResearchFlightSegment(kind='circle',\n",
    "                                name='c5',\n",
    "                                start=fpt.dt64_to_dt(bahamas[\"time\"][enter_c5].values),\n",
    "                                end=fpt.dt64_to_dt(bahamas['time'][exit_c5].values)\n",
    "                               )\n",
    "circle_break4 = ResearchFlightSegment(kind='circle_break',\n",
    "                                      name='cb5to6',\n",
    "                                      start=fpt.dt64_to_dt(bahamas[\"time\"][exit_c5].values),\n",
    "                                      end=fpt.dt64_to_dt(bahamas['time'][enter_c6].values)\n",
    "                                     )\n",
    "circle6 = ResearchFlightSegment(kind='circle',\n",
    "                                name='c6',\n",
    "                                start=fpt.dt64_to_dt(bahamas[\"time\"][enter_c6].values),\n",
    "                                end=fpt.dt64_to_dt(bahamas['time'][exit_c6].values)\n",
    "                               )\n",
    "lidar_cal = ResearchFlightSegment(kind='lidar_calibration',\n",
    "                                  name='lidar_cal',\n",
    "                                  start=fpt.dt64_to_dt(bahamas[\"time\"][enter_lidar_cal].values),\n",
    "                                  end=fpt.dt64_to_dt(bahamas['time'][exit_lidar_cal].values)\n",
    "                                 )"
   ]
  },
  {
   "cell_type": "code",
   "execution_count": null,
   "metadata": {
    "scrolled": true
   },
   "outputs": [],
   "source": [
    "RF05.to_dictionary()"
   ]
  },
  {
   "cell_type": "markdown",
   "metadata": {},
   "source": [
    "## 6.) Append the flight segments to the ResearchFlight object and save the object content to a yaml file."
   ]
  },
  {
   "cell_type": "code",
   "execution_count": null,
   "metadata": {},
   "outputs": [],
   "source": [
    "RF05.append_segments([circle1, circle_break1, circle2, circle_break2, circle3,\n",
    "                      leg1, radar_cal, leg2, circle4, circle_break3, circle5, circle_break4,\n",
    "                      circle6, lidar_cal])"
   ]
  },
  {
   "cell_type": "markdown",
   "metadata": {},
   "source": [
    "## 7.) Store ResearchFlight object contents to a yaml file."
   ]
  },
  {
   "cell_type": "code",
   "execution_count": null,
   "metadata": {},
   "outputs": [],
   "source": [
    "RF05.to_yaml(filename='/Users/mprange/Desktop/halo_unified/unified/flight_phase_files/HALO_RF05_20200128_info.yaml')"
   ]
  }
 ],
 "metadata": {
  "kernelspec": {
   "display_name": "Python 3",
   "language": "python",
   "name": "python3"
  },
  "language_info": {
   "codemirror_mode": {
    "name": "ipython",
    "version": 3
   },
   "file_extension": ".py",
   "mimetype": "text/x-python",
   "name": "python",
   "nbconvert_exporter": "python",
   "pygments_lexer": "ipython3",
   "version": "3.7.1"
  }
 },
 "nbformat": 4,
 "nbformat_minor": 2
}
