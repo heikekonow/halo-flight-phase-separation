{
 "cells": [
  {
   "cell_type": "code",
   "execution_count": 87,
   "metadata": {},
   "outputs": [],
   "source": [
    "import matplotlib.pyplot as plt\n",
    "import numpy as np\n",
    "import xarray as xr\n",
    "from datetime import datetime, timedelta\n",
    "import sys\n",
    "sys.path.append(\"../\")\n",
    "\n",
    "import FlightPhaseTools as fpt\n",
    "from ResearchFlight import ResearchFlight\n",
    "from ResearchFlightSegment import ResearchFlightSegment"
   ]
  },
  {
   "cell_type": "markdown",
   "metadata": {},
   "source": [
    "# Load data into xarray datasets using typhon FileSet objects."
   ]
  },
  {
   "cell_type": "code",
   "execution_count": 88,
   "metadata": {},
   "outputs": [],
   "source": [
    "outdir = '../flight_phase_files/'\n",
    "datadir = '/Users/heike/Documents/eurec4a/data_processing/EUREC4A_campaignData/all_nc/'\n",
    "bahamas = xr.open_dataset(datadir + 'bahamas_20200122_v0.4.nc')\n",
    "dropsondes = xr.open_dataset(datadir + 'dropsondes_20200122_v0.4.nc')"
   ]
  },
  {
   "cell_type": "markdown",
   "metadata": {},
   "source": [
    "# Determine the timestamps of the different flight phases using the FlightPhaseTools module."
   ]
  },
  {
   "cell_type": "code",
   "execution_count": 89,
   "metadata": {},
   "outputs": [],
   "source": [
    "takeoff = 0\n",
    "touchdown = len(bahamas['time']) - 1\n",
    "\n",
    "\n",
    "###############\n",
    "#1st circle set\n",
    "###############\n",
    "# circle 1\n",
    "enter_c1_ds = fpt.ds_timestamp_ind(bahamas, dropsondes, 0)\n",
    "enter_c1 = fpt.timestamp_ind_1min_prior(bahamas, enter_c1_ds)+30\n",
    "exit_c1 = fpt.exit_circle_timestamp_ind(bahamas, enter_c1)\n",
    "\n",
    "# circle 2\n",
    "enter_c2_ds = fpt.ds_timestamp_ind(bahamas, dropsondes, 12)\n",
    "enter_c2 = fpt.timestamp_ind_1min_prior(bahamas, enter_c2_ds)+1\n",
    "exit_c2 = fpt.exit_circle_timestamp_ind(bahamas, enter_c2)+7\n",
    "\n",
    "# circle 3\n",
    "enter_c3_ds = fpt.ds_timestamp_ind(bahamas, dropsondes, 24)\n",
    "enter_c3 = fpt.timestamp_ind_1min_prior(bahamas, enter_c3_ds)-10\n",
    "exit_c3 = fpt.exit_circle_timestamp_ind(bahamas, enter_c3)\n",
    "\n",
    "headingdiff = bahamas['heading'][exit_c1]-bahamas['heading'][enter_c1]+360\n",
    "irr_c1 = 'Circle starts {:.0f} s before first launch to include the last sonde'.format(enter_c1_ds-enter_c1)\n",
    "irr_c3 = 'Circle starts {:.0f} s before first launch to avoid pitch change in end of circle'.format(enter_c3_ds-enter_c3)"
   ]
  },
  {
   "cell_type": "code",
   "execution_count": 90,
   "metadata": {},
   "outputs": [
    {
     "data": {
      "text/plain": [
       "datetime.datetime(2020, 1, 22, 16, 13, 2)"
      ]
     },
     "execution_count": 90,
     "metadata": {},
     "output_type": "execute_result"
    }
   ],
   "source": [
    "\n",
    "fpt.dt64_to_dt(bahamas[\"time\"][fpt.ds_timestamp_ind(bahamas, dropsondes, 11)].values)"
   ]
  },
  {
   "cell_type": "code",
   "execution_count": 91,
   "metadata": {},
   "outputs": [
    {
     "data": {
      "text/plain": [
       "numpy.datetime64('2020-01-22T16:13:03.000004352')"
      ]
     },
     "execution_count": 91,
     "metadata": {},
     "output_type": "execute_result"
    }
   ],
   "source": [
    "dropsondes[\"launch_time\"][11].values"
   ]
  },
  {
   "cell_type": "code",
   "execution_count": 92,
   "metadata": {},
   "outputs": [],
   "source": [
    "#####################\n",
    "#baccardi_calibration\n",
    "#####################\n",
    "# Box pattern\n",
    "max_roll_start_baccardi = fpt.max_timestamp_ind(bahamas, 'roll', \n",
    "                               slice('2020-01-22T18:56:00', '2020-01-22T18:57:00'), order=1000)\n",
    "\n",
    "min_roll_before_baccardi_cal = fpt.min_timestamp_ind(bahamas, 'roll', \n",
    "                               slice('2020-01-22T19:00:00', '2020-01-22T19:10:00'), order=1000)\n",
    "\n",
    "# bahamas['roll'][min_roll_start_baccardi]\n",
    "enter_baccardi_cal = fpt.find_first_value_after_ts_ind(bahamas, 'roll', min_roll_before_baccardi_cal, 0., 0.05)\n",
    "\n",
    "\n",
    "# Set end of baccardi calibration manually\n",
    "end_baccardi_cal_time = datetime.strptime('2020-01-22 19:12:00', '%Y-%m-%d %H:%M:%S')\n",
    "\n",
    "\n",
    "# bahamas[\"altitude_dt\"] = (['time'], np.append(np.diff(bahamas[\"altitude\"]),0))\n",
    "# max_dzdt_before_baccardi_cal = fpt.max_timestamp_ind(bahamas, 'altitude_dt', \n",
    "#                                slice('2020-01-22T18:50:00', '2020-01-22T19:00:00'), order=1000)\n",
    "# enter_baccardi_cal = fpt.find_first_value_after_ts_ind(bahamas, 'roll', max_dzdt_before_baccardi_cal, 0., 0.05)\n",
    "\n",
    "\n",
    "exit_baccardi_cal = fpt.find_first_value_after_ts_ind(bahamas, 'roll', min_roll_before_baccardi_cal, 0., 3.)"
   ]
  },
  {
   "cell_type": "code",
   "execution_count": 93,
   "metadata": {},
   "outputs": [],
   "source": [
    "#leg1\n",
    "max_roll_end_baccardi = fpt.min_timestamp_ind(bahamas, 'roll', \n",
    "                               slice('2020-01-22T19:05:00', '2020-01-22T19:15:00'), order=1000)\n",
    "\n",
    "# enter_leg1 = fpt.find_first_value_after_ts_ind(bahamas, 'roll', max_roll_end_baccardi, 0., 0.05)\n",
    "enter_leg1 = exit_baccardi_cal\n",
    "\n",
    "max_roll_after_leg1 = fpt.max_timestamp_ind(bahamas, 'roll', \n",
    "                      slice('2020-01-22T19:00:00', '2020-01-22T19:30:00'), order=1000)\n",
    "exit_leg1 = fpt.find_first_value_before_ts_ind(bahamas, 'roll', max_roll_after_leg1, 0., 3.)"
   ]
  },
  {
   "cell_type": "code",
   "execution_count": 94,
   "metadata": {},
   "outputs": [
    {
     "data": {
      "text/plain": [
       "<xarray.DataArray 'roll' ()>\n",
       "array(-2.48395)\n",
       "Coordinates:\n",
       "    time     datetime64[ns] 2020-01-22T19:08:05.999995904\n",
       "    lat      float64 ...\n",
       "    lon      float64 ...\n",
       "Attributes:\n",
       "    units:      deg\n",
       "    long_name:  roll"
      ]
     },
     "execution_count": 94,
     "metadata": {},
     "output_type": "execute_result"
    }
   ],
   "source": [
    "[exit_baccardi_cal, enter_leg1,exit_leg1]\n",
    "bahamas['roll'][exit_baccardi_cal]"
   ]
  },
  {
   "cell_type": "code",
   "execution_count": 95,
   "metadata": {},
   "outputs": [
    {
     "data": {
      "text/plain": [
       "(array([737446.79861111, 737446.80208333]),\n",
       " <a list of 2 Text xticklabel objects>)"
      ]
     },
     "execution_count": 95,
     "metadata": {},
     "output_type": "execute_result"
    },
    {
     "data": {
      "image/png": "[encoded data removed]",
      "text/plain": [
       "<Figure size 432x288 with 1 Axes>"
      ]
     },
     "metadata": {
      "needs_background": "light"
     },
     "output_type": "display_data"
    }
   ],
   "source": [
    "\n",
    "plt.plot(bahamas[\"time\"][enter_leg1:exit_leg1], bahamas[\"roll\"][enter_leg1:exit_leg1])\n",
    "plt.xticks(rotation=45)"
   ]
  },
  {
   "cell_type": "code",
   "execution_count": 96,
   "metadata": {},
   "outputs": [
    {
     "data": {
      "text/plain": [
       "datetime.datetime(2020, 1, 22, 19, 8, 5)"
      ]
     },
     "execution_count": 96,
     "metadata": {},
     "output_type": "execute_result"
    }
   ],
   "source": [
    "fpt.dt64_to_dt(bahamas['time'][enter_leg1].values)\n",
    "# bahamas['roll'][enter_leg1]"
   ]
  },
  {
   "cell_type": "code",
   "execution_count": 97,
   "metadata": {},
   "outputs": [
    {
     "data": {
      "text/plain": [
       "datetime.datetime(2020, 1, 22, 19, 8, 5)"
      ]
     },
     "execution_count": 97,
     "metadata": {},
     "output_type": "execute_result"
    }
   ],
   "source": [
    "fpt.dt64_to_dt(bahamas['time'][enter_leg1].values)"
   ]
  },
  {
   "cell_type": "code",
   "execution_count": 98,
   "metadata": {},
   "outputs": [],
   "source": [
    "#leg2\n",
    "min_roll_before_leg2 = fpt.min_timestamp_ind(bahamas, 'roll', \n",
    "                       slice('2020-01-22T19:15:00', '2020-01-22T19:45:00'), order=1000)\n",
    "enter_leg2 = fpt.find_first_value_after_ts_ind(bahamas, 'roll', min_roll_before_leg2, 0., 1.)\n",
    "max_roll_after_leg2 = fpt.max_timestamp_ind(bahamas, 'roll', \n",
    "                      slice('2020-01-22T19:30:00', '2020-01-22T19:45:00'), order=1000)\n",
    "exit_leg2 = fpt.find_first_value_before_ts_ind(bahamas, 'roll', max_roll_after_leg2, 0., 1.)\n",
    "\n",
    "\n",
    "###############\n",
    "#2nd circle set\n",
    "###############\n",
    "# circle 4\n",
    "enter_c4_ds = fpt.ds_timestamp_ind(bahamas, dropsondes, 35)\n",
    "enter_c4 = fpt.timestamp_ind_1min_prior(bahamas, enter_c4_ds)\n",
    "exit_c4 = fpt.exit_circle_timestamp_ind(bahamas, enter_c4)\n",
    "\n",
    "# circle 5\n",
    "\n",
    "# After a lot of tries, add the times manually... these have been tested\n",
    "c5_start_string = '2020-01-22 20:59:01'\n",
    "c5_end_string = '2020-01-22 21:58:36'\n",
    "exit_cb45 = datetime.strptime(c5_start_string, '%Y-%m-%d %H:%M:%S') \n",
    "enter_c5 = datetime.strptime(c5_start_string, '%Y-%m-%d %H:%M:%S')\n",
    "exit_c5 = datetime.strptime(c5_end_string, '%Y-%m-%d %H:%M:%S')\n",
    "\n",
    "# circle 6\n",
    "# set beginning of circle 6 directly after end of circle 5\n",
    "enter_c6 = datetime.strptime(c5_end_string, '%Y-%m-%d %H:%M:%S')\n"
   ]
  },
  {
   "cell_type": "code",
   "execution_count": 99,
   "metadata": {},
   "outputs": [
    {
     "data": {
      "text/plain": [
       "<xarray.DataArray 'heading' (time: 1)>\n",
       "array([36.649204])\n",
       "Coordinates:\n",
       "  * time     (time) datetime64[ns] 2020-01-22T21:58:36.999994368\n",
       "    lat      (time) float64 ...\n",
       "    lon      (time) float64 ...\n",
       "Attributes:\n",
       "    units:      deg+\n",
       "    long_name:  heading"
      ]
     },
     "execution_count": 99,
     "metadata": {},
     "output_type": "execute_result"
    }
   ],
   "source": [
    "max_roll_after_c6 = fpt.max_timestamp_ind(bahamas, 'roll', \n",
    "                      slice('2020-01-22T22:45:00', '2020-01-22T23:10:00'), order=1000)\n",
    "exit_c6 = fpt.find_first_value_before_ts_ind(bahamas, 'roll', max_roll_after_c6, 0., 3)\n",
    "\n",
    "\n",
    "\n",
    "bahamas['heading'][exit_c6]\n",
    "bahamas.sel(time=c5_end_string)['heading']\n",
    "\n",
    "# slice('2020-01-22T22:45:00', '2020-01-22T23:10:00')"
   ]
  },
  {
   "cell_type": "code",
   "execution_count": 100,
   "metadata": {},
   "outputs": [
    {
     "name": "stdout",
     "output_type": "stream",
     "text": [
      "[357.77009583]\n"
     ]
    }
   ],
   "source": [
    "headingdiff = bahamas['heading'][exit_c6] - bahamas.sel(time=c5_end_string)['heading'] +360\n",
    "\n",
    "print(str(headingdiff.values))\n",
    "\n",
    "# headingdiff = bahamas['heading'][exit_c6]-bahamas['heading'][enter_c6]+360\n",
    "irr_c6 = 'Circle is only 358 deg'\n",
    "# irr_c6 = 'Circle is only {:.2f} deg'.format(headingdiff)\n"
   ]
  },
  {
   "cell_type": "code",
   "execution_count": 101,
   "metadata": {},
   "outputs": [
    {
     "data": {
      "text/plain": [
       "<xarray.DataArray 'time' ()>\n",
       "array('2020-01-22T19:10:52.999995392', dtype='datetime64[ns]')\n",
       "Coordinates:\n",
       "    time     datetime64[ns] 2020-01-22T19:10:52.999995392\n",
       "    lat      float64 ...\n",
       "    lon      float64 ...\n",
       "Attributes:\n",
       "    long_name:  time"
      ]
     },
     "execution_count": 101,
     "metadata": {},
     "output_type": "execute_result"
    }
   ],
   "source": [
    "############\n",
    "# Circling 1\n",
    "############\n",
    "enter_circling1 = enter_c1\n",
    "exit_circling1 = exit_c3\n",
    "\n",
    "\n",
    "############\n",
    "# Circling 2\n",
    "############\n",
    "max_roll_before_circle4 = fpt.max_timestamp_ind(bahamas, 'roll', \n",
    "                      slice('2020-01-22T19:30:00', '2020-01-22T19:55:00'), order=1000)\n",
    "enter_circling2 = enter_c4\n",
    "exit_circling2 = exit_c6\n",
    "\n",
    "\n",
    "\n",
    "\n",
    "############\n",
    "# Lidar legs\n",
    "############\n",
    "\n",
    "# Leg 3\n",
    "enter_leg3 = fpt.find_first_value_after_ts_ind(bahamas, 'roll', exit_c6, 0., 0.05)\n",
    "min_roll_after_leg3 = fpt.min_timestamp_ind(bahamas, 'roll', \n",
    "                      slice('2020-01-22T23:00:00', '2020-01-22T23:30:00'), order=1000)\n",
    "exit_leg3 = fpt.find_first_value_before_ts_ind(bahamas, 'roll', min_roll_after_leg3, 0., 0.05)\n",
    "\n",
    "# Lidar leg\n",
    "min_roll_before_lidar_cal = fpt.min_timestamp_ind(bahamas, 'roll', \n",
    "                            slice('2020-01-22T23:20:00', '2020-01-22T23:30:00'), order=1000)\n",
    "enter_lidar_cal = fpt.find_first_value_after_ts_ind(bahamas, 'roll', min_roll_before_lidar_cal, 0., 0.05)\n",
    "min_roll_after_lidar_cal = fpt.min_timestamp_ind(bahamas, 'roll', \n",
    "                           slice('2020-01-22T23:40:00', '2020-01-22T23:45:00'), order=1000)\n",
    "# exit_sl = fpt.find_first_value_before_ts_ind(bahamas, 'roll', min_roll_after_lidar_cal, 0., 0.05)\n",
    "\n",
    "# exit_lidar_cal = fpt.find_first_value_before_ts_ind(bahamas, 'roll', min_roll_after_lidar_cal, 0., 0.05)\n",
    "\n",
    "bahamas[\"altitude_dt\"] = (['time'], np.append(np.diff(bahamas[\"altitude\"]),0))\n",
    "max_dzdt_after_lidar_cal = fpt.min_timestamp_ind(bahamas, 'altitude_dt', \n",
    "                               slice('2020-01-22T23:40:00', '2020-01-23T00:01:00'), order=1000)\n",
    "exit_lidar_cal = fpt.find_first_value_before_ts_ind(bahamas, 'altitude_dt', max_dzdt_after_lidar_cal, 0., 0.05)\n",
    "bahamas['altitude_dt'][max_dzdt_after_lidar_cal]\n",
    "bahamas['time'][enter_baccardi_cal]"
   ]
  },
  {
   "cell_type": "code",
   "execution_count": 102,
   "metadata": {},
   "outputs": [
    {
     "data": {
      "text/plain": [
       "(array([737446.99305556, 737446.99652778, 737447.        , 737447.00347222,\n",
       "        737447.00694444]),\n",
       " <a list of 5 Text xticklabel objects>)"
      ]
     },
     "execution_count": 102,
     "metadata": {},
     "output_type": "execute_result"
    },
    {
     "data": {
      "image/png": "[encoded data removed]",
      "text/plain": [
       "<Figure size 432x288 with 1 Axes>"
      ]
     },
     "metadata": {
      "needs_background": "light"
     },
     "output_type": "display_data"
    }
   ],
   "source": [
    "plt.plot(bahamas[\"time\"][max_dzdt_after_lidar_cal:touchdown], bahamas[\"altitude_dt\"][max_dzdt_after_lidar_cal:touchdown])\n",
    "plt.xticks(rotation=45)"
   ]
  },
  {
   "cell_type": "code",
   "execution_count": 103,
   "metadata": {},
   "outputs": [],
   "source": [
    "\n",
    "ts_ind_list = [takeoff, enter_c1, exit_c1, \n",
    "               enter_c2, exit_c2, enter_c3, exit_c3, \n",
    "               enter_baccardi_cal, exit_baccardi_cal, \n",
    "               exit_leg1, enter_leg2, exit_leg2, \n",
    "               enter_c4, exit_c4, enter_c5, exit_c5, \n",
    "               enter_c6, exit_c6, enter_leg3, exit_leg3, \n",
    "               enter_lidar_cal, exit_lidar_cal, touchdown]\n",
    "label_list = [\"takeoff\", \"enter_c1\", \"exit_c1\", \n",
    "              \"enter_c2\", \"exit_c2\", \"enter_c3\", \"exit_c3\", \n",
    "              \"enter_baccardi_cal\", \"exit_baccardi_cal/enter_leg1\", \n",
    "              \"exit_leg1\", \"enter_leg2\", \"exit_leg2\",\n",
    "              \"enter_c4\", \"exit_c4\", \"enter_c5\", \"exit_c5\", \n",
    "              \"enter_c6\", \"exit_c6\", \"enter_leg3\", \"exit_leg3\",\n",
    "              \"enter_lidar_cal\", \"exit_lidar_cal\", \"touchdown\"]"
   ]
  },
  {
   "cell_type": "code",
   "execution_count": 104,
   "metadata": {},
   "outputs": [],
   "source": [
    "#create markers for every dropsonde\n",
    "#--> helps to see the individual circles\n",
    "#only execute if needed!\n",
    "# ts_ind_list = []\n",
    "# label_list = np.arange(1,len(dropsondes[\"launch_time\"])+1)\n",
    "# for i in range(len(dropsondes[\"launch_time\"])):\n",
    "#     ts_ind_list.append(fpt.ds_timestamp_ind(bahamas, dropsondes,  i))"
   ]
  },
  {
   "cell_type": "markdown",
   "metadata": {},
   "source": [
    "# Check numer of good dropsondes per circle"
   ]
  },
  {
   "cell_type": "code",
   "execution_count": 105,
   "metadata": {},
   "outputs": [],
   "source": [
    "c1NumSondes = 0\n",
    "for i in range(len(dropsondes[\"launch_time\"])):\n",
    "    if fpt.dt64_to_dt(bahamas[\"time\"][enter_c1].values) \\\n",
    "    < fpt.dt64_to_dt(dropsondes[\"launch_time\"][i].values) \\\n",
    "    < fpt.dt64_to_dt(bahamas[\"time\"][exit_c1].values):\n",
    "        c1NumSondes = c1NumSondes+1\n",
    "        \n",
    "\n",
    "c2NumSondes = 0\n",
    "for i in range(len(dropsondes[\"launch_time\"])):\n",
    "    if fpt.dt64_to_dt(bahamas[\"time\"][enter_c2].values) \\\n",
    "    < fpt.dt64_to_dt(dropsondes[\"launch_time\"][i].values) \\\n",
    "    < fpt.dt64_to_dt(bahamas[\"time\"][exit_c2].values):\n",
    "        c2NumSondes = c2NumSondes+1\n",
    "        \n",
    "\n",
    "c3NumSondes = 0\n",
    "for i in range(len(dropsondes[\"launch_time\"])):\n",
    "    if fpt.dt64_to_dt(bahamas[\"time\"][enter_c3].values) \\\n",
    "    < fpt.dt64_to_dt(dropsondes[\"launch_time\"][i].values) \\\n",
    "    < fpt.dt64_to_dt(bahamas[\"time\"][exit_c3].values):\n",
    "        c3NumSondes = c3NumSondes+1\n",
    "        \n",
    "\n",
    "c4NumSondes = 0\n",
    "for i in range(len(dropsondes[\"launch_time\"])):\n",
    "    if fpt.dt64_to_dt(bahamas[\"time\"][enter_c4].values) \\\n",
    "    < fpt.dt64_to_dt(dropsondes[\"launch_time\"][i].values) \\\n",
    "    < fpt.dt64_to_dt(bahamas[\"time\"][exit_c4].values):\n",
    "        c4NumSondes = c4NumSondes+1\n",
    "        \n",
    "#fpt.dt64_to_dt(bahamas[\"time\"][enter_c5].values) \\\n",
    "#     < fpt.dt64_to_dt(bahamas[\"time\"][exit_c5].values):\n",
    "\n",
    "c5NumSondes = 0\n",
    "for i in range(len(dropsondes[\"launch_time\"])):\n",
    "    if enter_c5 \\\n",
    "    < fpt.dt64_to_dt(dropsondes[\"launch_time\"][i].values) \\\n",
    "    < exit_c5:\n",
    "        c5NumSondes = c5NumSondes+1\n",
    "\n",
    "# remove one sonde (2020-01-22 21:56) because of failed launch detect\n",
    "c5NumSondes=c5NumSondes-1\n",
    "\n",
    "# fpt.dt64_to_dt(bahamas[\"time\"][enter_c6].values) \\\n",
    "\n",
    "c6NumSondes = 0\n",
    "for i in range(len(dropsondes[\"launch_time\"])):\n",
    "    if enter_c6 \\\n",
    "    < fpt.dt64_to_dt(dropsondes[\"launch_time\"][i].values) \\\n",
    "    < fpt.dt64_to_dt(bahamas[\"time\"][exit_c6].values):\n",
    "        c6NumSondes = c6NumSondes+1\n",
    "        \n"
   ]
  },
  {
   "cell_type": "markdown",
   "metadata": {},
   "source": [
    "# Create basic timeseries of bahamas data with markers for determined timestamps to manually evaluate the validity of the timestamps."
   ]
  },
  {
   "cell_type": "code",
   "execution_count": 106,
   "metadata": {
    "scrolled": false
   },
   "outputs": [],
   "source": [
    "# fig, ax = fpt.plot_bahamas_timeseries(bahamas, ts_ind_list, label_list)"
   ]
  },
  {
   "cell_type": "markdown",
   "metadata": {},
   "source": [
    "# Create a ResearchFlight object to represent the flight meta data."
   ]
  },
  {
   "cell_type": "code",
   "execution_count": 107,
   "metadata": {},
   "outputs": [],
   "source": [
    "RF02 = ResearchFlight(name=f\"RF{bahamas.attrs['flight_number']}\",\n",
    "                      mission=bahamas.attrs['mission'],\n",
    "                      flight_id='HALO-0122',\n",
    "                      contacts=[\n",
    "                          {\n",
    "                              'name': 'Marc Prange', \n",
    "                              'email': 'marc.prange@uni-hamburg.de',\n",
    "                              'tags': ['dataset creator'],\n",
    "                          },\n",
    "                          {\n",
    "                              'name': 'Heike Konow', \n",
    "                              'email': 'heike.konow@uni-hamburg.de',\n",
    "                              'tags': ['dataset creator'],\n",
    "                          },\n",
    "                          {\n",
    "                              'name': 'Bjorn Stevens',\n",
    "                              'email': 'bjorn.stevens@mpimet.mpg.de',\n",
    "                              'tags': ['flight PI']\n",
    "                          }\n",
    "                      ],\n",
    "                      date=fpt.dt64_to_dt(bahamas['time'][takeoff].values).date(),\n",
    "                      flight_report='https://observations.ipsl.fr/aeris/eurec4a-data/REPORTS/HALO/2020/20200122/HALO-0122.pdf',\n",
    "                      takeoff=fpt.dt64_to_dt(bahamas['time'][takeoff].values),\n",
    "                      landing=fpt.dt64_to_dt(bahamas['time'][touchdown].values),\n",
    "                      events=[],\n",
    "                      remarks=['Basic pattern of circles, spur towards NTAS removed in favour of calibration maneuvers.',\n",
    "                               'Square pattern for BACCARDI calibration at FL410 (above Cirrus), with return leg at FL310 (below Cirrus).',\n",
    "                               'Very moist and deep trade-wind layer, convection extending to 4 km associated with a Fish pattern in the SW-edge of the circle.',\n",
    "                               'Descending Cirrus (9-13.5km) coming from West and South of the circle.',\n",
    "                               'Away from the southwest edge of the track the air was almost entirely cloud free.'],\n",
    ")"
   ]
  },
  {
   "cell_type": "markdown",
   "metadata": {},
   "source": [
    "# Store the flight phase information in ResearchFlightSegment objects."
   ]
  },
  {
   "cell_type": "code",
   "execution_count": 108,
   "metadata": {},
   "outputs": [],
   "source": [
    "circle1 = ResearchFlightSegment(kinds=['circle'],\n",
    "                                name='Circle 1',\n",
    "                                good_dropsondes=c1NumSondes,\n",
    "                                irregularities=[irr_c1],\n",
    "                                segment_id=RF02.flight_id + '_c1',\n",
    "                                start=fpt.dt64_to_dt(bahamas[\"time\"][enter_c1].values),\n",
    "                                end=fpt.dt64_to_dt(bahamas['time'][exit_c1].values)\n",
    "                               )\n",
    "circleBreak1to2 = ResearchFlightSegment(kinds=['circle_break'],\n",
    "                                        name='Break between circle 1 and 2',\n",
    "                                        irregularities=[],\n",
    "                                        segment_id=RF02.flight_id + '_cb1',\n",
    "                                        start=fpt.dt64_to_dt(bahamas[\"time\"][exit_c1].values),\n",
    "                                        end=fpt.dt64_to_dt(bahamas['time'][enter_c2].values)\n",
    "                                       )\n",
    "circle2 = ResearchFlightSegment(kinds=['circle'],\n",
    "                                name='Circle 2',\n",
    "                                good_dropsondes=c2NumSondes,\n",
    "                                irregularities=[],\n",
    "                                segment_id=RF02.flight_id + '_c2',\n",
    "                                start=fpt.dt64_to_dt(bahamas[\"time\"][enter_c2].values),\n",
    "                                end=fpt.dt64_to_dt(bahamas['time'][exit_c2].values)\n",
    "                               )\n",
    "circleBreak2to3 = ResearchFlightSegment(kinds=['circle_break'],\n",
    "                                        name='Break between circle 2 and 3',\n",
    "                                        irregularities=[],\n",
    "                                        segment_id=RF02.flight_id + '_cb2',\n",
    "                                        start=fpt.dt64_to_dt(bahamas[\"time\"][exit_c2].values),\n",
    "                                        end=fpt.dt64_to_dt(bahamas['time'][enter_c3].values)\n",
    "                                       ) \n",
    "circle3 = ResearchFlightSegment(kinds=['circle'],\n",
    "                                good_dropsondes=c3NumSondes,\n",
    "                                irregularities=[irr_c3],\n",
    "                                segment_id=RF02.flight_id + '_c3',\n",
    "                                name='Circle 3',\n",
    "                                start=fpt.dt64_to_dt(bahamas[\"time\"][enter_c3].values),\n",
    "                                end=fpt.dt64_to_dt(bahamas['time'][exit_c3].values)\n",
    "                               )\n",
    "baccardi_cal = ResearchFlightSegment(kinds=['baccardi_calibration'],\n",
    "                                     name='Baccardi calibration',\n",
    "                                     irregularities=[],\n",
    "                                     segment_id=RF02.flight_id + '_bc1',\n",
    "                                     start=fpt.dt64_to_dt(bahamas[\"time\"][enter_baccardi_cal].values),\n",
    "                                     end=end_baccardi_cal_time\n",
    "                                    )\n",
    "leg1 = ResearchFlightSegment(kinds=['straight_leg'],\n",
    "                             name='Leg 1 above cirrus',\n",
    "                             irregularities=[],\n",
    "                             segment_id=RF02.flight_id + '_sl1',\n",
    "                             start=fpt.dt64_to_dt(bahamas[\"time\"][enter_leg1].values),\n",
    "                             end=fpt.dt64_to_dt(bahamas['time'][exit_leg1].values)\n",
    "                            )\n",
    "leg2 = ResearchFlightSegment(kinds=['straight_leg'],\n",
    "                             name='Leg 2 below cirrus',\n",
    "                             irregularities=[],\n",
    "                             segment_id=RF02.flight_id + '_sl2',\n",
    "                             start=fpt.dt64_to_dt(bahamas[\"time\"][enter_leg2].values),\n",
    "                             end=fpt.dt64_to_dt(bahamas['time'][exit_leg2].values)\n",
    "                            )\n",
    "circle4 = ResearchFlightSegment(kinds=['circle'],\n",
    "                                name='Circle 4',\n",
    "                                good_dropsondes=c4NumSondes,\n",
    "                                irregularities=[],\n",
    "                                segment_id=RF02.flight_id + '_c4',\n",
    "                                start=fpt.dt64_to_dt(bahamas[\"time\"][enter_c4].values)+timedelta(0,1),\n",
    "                                end=fpt.dt64_to_dt(bahamas['time'][exit_c4].values)\n",
    "                               )\n",
    "circleBreak4to5 = ResearchFlightSegment(kinds=['circle_break'],\n",
    "                                        name='Break between circle 4 and 5',\n",
    "                                        irregularities=[],\n",
    "                                        segment_id=RF02.flight_id + '_cb3',\n",
    "                                        start=fpt.dt64_to_dt(bahamas[\"time\"][exit_c4].values),\n",
    "                                        end=datetime.strptime(c5_start_string, '%Y-%m-%d %H:%M:%S')\n",
    "                                       )\n",
    "circle5 = ResearchFlightSegment(kinds=['circle'],\n",
    "                                name='Circle 5',\n",
    "                                good_dropsondes=c5NumSondes,\n",
    "                                irregularities=['Circle starts earlier to accomodate almost complete 6th circle right afterwards'],\n",
    "                                segment_id=RF02.flight_id + '_c5',\n",
    "                                start=enter_c5,\n",
    "                                end=exit_c5\n",
    "#                                 start=fpt.dt64_to_dt(bahamas[\"time\"][enter_c5].values),\n",
    "#                                 end=fpt.dt64_to_dt(bahamas['time'][exit_c5].values)\n",
    "                               )\n",
    "# no break between circles 5 and 6                                  \n",
    "circle6 = ResearchFlightSegment(kinds=['circle'],\n",
    "                                name='Circle 6',\n",
    "                                good_dropsondes=c6NumSondes,\n",
    "                                irregularities=[irr_c6],\n",
    "                                segment_id=RF02.flight_id + '_c6',\n",
    "#                                 start=fpt.dt64_to_dt(bahamas[\"time\"][enter_c6].values),\n",
    "                                start=enter_c6,\n",
    "                                end=fpt.dt64_to_dt(bahamas['time'][exit_c6].values)\n",
    "                               )\n",
    "leg3 = ResearchFlightSegment(kinds=['straight_leg'],\n",
    "                             name='Leg 3 over R/V Meteor',\n",
    "                             irregularities=[],\n",
    "                             segment_id=RF02.flight_id + '_sl3',\n",
    "                             start=fpt.dt64_to_dt(bahamas[\"time\"][enter_leg3].values),\n",
    "                             end=fpt.dt64_to_dt(bahamas['time'][exit_leg3].values)\n",
    "                            )\n",
    "lidar_cal = ResearchFlightSegment(kinds=['lidar_leg'],\n",
    "                                  name='Lidar leg',\n",
    "                                  irregularities=[],\n",
    "                                  segment_id=RF02.flight_id + '_ll1',\n",
    "                                  start=fpt.dt64_to_dt(bahamas[\"time\"][enter_lidar_cal].values),\n",
    "                                  end=fpt.dt64_to_dt(bahamas['time'][exit_lidar_cal].values)\n",
    "                                 )\n",
    "circling1 = ResearchFlightSegment(kinds=['circling'],\n",
    "                                  name='Circling 1',\n",
    "                                  irregularities=[],\n",
    "                                  good_dropsondes=c1NumSondes+c2NumSondes+c3NumSondes,\n",
    "                                  segment_id=RF02.flight_id + '_o1',\n",
    "                                  start=fpt.dt64_to_dt(bahamas[\"time\"][enter_circling1].values),\n",
    "                                  end=fpt.dt64_to_dt(bahamas[\"time\"][exit_circling1].values)\n",
    "                                 )\n",
    "circling2 = ResearchFlightSegment(kinds=['circling'],\n",
    "                                  name='Circling 2',\n",
    "                                  irregularities=[],\n",
    "                                  good_dropsondes=c4NumSondes+c5NumSondes+c6NumSondes,\n",
    "                                  segment_id=RF02.flight_id + '_o2',\n",
    "                                  start=fpt.dt64_to_dt(bahamas[\"time\"][enter_circling2].values)+timedelta(0,1),\n",
    "                                  end=fpt.dt64_to_dt(bahamas[\"time\"][exit_circling2].values)\n",
    "                                 )"
   ]
  },
  {
   "cell_type": "code",
   "execution_count": 109,
   "metadata": {},
   "outputs": [
    {
     "name": "stdout",
     "output_type": "stream",
     "text": [
      "2020-01-22 19:44:10 2020-01-22 19:44:11\n"
     ]
    }
   ],
   "source": [
    "print(circle4.start, circle4.start+timedelta(0,1))"
   ]
  },
  {
   "cell_type": "markdown",
   "metadata": {},
   "source": [
    "# Append the flight segments to the ResearchFlight object and save the object content to a .yaml file."
   ]
  },
  {
   "cell_type": "code",
   "execution_count": 110,
   "metadata": {},
   "outputs": [
    {
     "data": {
      "text/plain": [
       "{'name': 'RF02',\n",
       " 'mission': 'EUREC4A',\n",
       " 'flight_id': 'HALO-0122',\n",
       " 'contacts': [{'name': 'Marc Prange',\n",
       "   'email': 'marc.prange@uni-hamburg.de',\n",
       "   'tags': ['dataset creator']},\n",
       "  {'name': 'Heike Konow',\n",
       "   'email': 'heike.konow@uni-hamburg.de',\n",
       "   'tags': ['dataset creator']},\n",
       "  {'name': 'Bjorn Stevens',\n",
       "   'email': 'bjorn.stevens@mpimet.mpg.de',\n",
       "   'tags': ['flight PI']}],\n",
       " 'date': datetime.date(2020, 1, 22),\n",
       " 'flight_report': 'https://observations.ipsl.fr/aeris/eurec4a-data/REPORTS/HALO/2020/20200122/HALO-0122.pdf',\n",
       " 'takeoff': datetime.datetime(2020, 1, 22, 14, 57, 35),\n",
       " 'landing': datetime.datetime(2020, 1, 23, 0, 10, 30),\n",
       " 'events': [],\n",
       " 'remarks': ['Basic pattern of circles, spur towards NTAS removed in favour of calibration maneuvers.',\n",
       "  'Square pattern for BACCARDI calibration at FL410 (above Cirrus), with return leg at FL310 (below Cirrus).',\n",
       "  'Very moist and deep trade-wind layer, convection extending to 4 km associated with a Fish pattern in the SW-edge of the circle.',\n",
       "  'Descending Cirrus (9-13.5km) coming from West and South of the circle.',\n",
       "  'Away from the southwest edge of the track the air was almost entirely cloud free.'],\n",
       " 'segments': []}"
      ]
     },
     "execution_count": 110,
     "metadata": {},
     "output_type": "execute_result"
    }
   ],
   "source": [
    "RF02.to_dictionary()"
   ]
  },
  {
   "cell_type": "code",
   "execution_count": 111,
   "metadata": {},
   "outputs": [
    {
     "name": "stdout",
     "output_type": "stream",
     "text": [
      "<ResearchFlight.ResearchFlight object at 0x1a27b3b278>\n"
     ]
    }
   ],
   "source": [
    "RF02.append_segments([circle1, circleBreak1to2, \n",
    "                      circle2, circleBreak2to3,\n",
    "                      circle3, baccardi_cal,\n",
    "                      leg1, leg2,\n",
    "                      circle4, circleBreak4to5, circle5,\n",
    "                      circle6, leg3, lidar_cal,\n",
    "                      circling1, circling2])\n",
    "\n",
    "print(RF02)"
   ]
  },
  {
   "cell_type": "code",
   "execution_count": 112,
   "metadata": {},
   "outputs": [],
   "source": [
    "RF02.to_yaml(filename=outdir + 'HALO_RF02_20200122_info.yaml_OLD')"
   ]
  },
  {
   "cell_type": "code",
   "execution_count": null,
   "metadata": {},
   "outputs": [],
   "source": []
  }
 ],
 "metadata": {
  "kernelspec": {
   "display_name": "Python 3",
   "language": "python",
   "name": "python3"
  },
  "language_info": {
   "codemirror_mode": {
    "name": "ipython",
    "version": 3
   },
   "file_extension": ".py",
   "mimetype": "text/x-python",
   "name": "python",
   "nbconvert_exporter": "python",
   "pygments_lexer": "ipython3",
   "version": "3.7.1"
  }
 },
 "nbformat": 4,
 "nbformat_minor": 2
}
